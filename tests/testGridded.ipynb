{
 "cells": [
  {
   "cell_type": "code",
   "execution_count": 3,
   "id": "1905affb",
   "metadata": {},
   "outputs": [],
   "source": [
    "import gridgeo\n",
    "import gridded\n",
    "import os\n",
    "import fiona\n",
    "\n",
    "dir_testinput = os.path.join(r'D:\\Delft3D FM\\Tutorial_D-Flow_FM\\tutorial09\\tutorial09.dsproj_data\\westerscheldt01')\n",
    "file_nc_map = os.path.join(dir_testinput,'output','westerscheldt01_map.nc')\n",
    "file_nc_his = os.path.join(dir_testinput,'output','westerscheldt01_his.nc')\n",
    "file_nc_ori = os.path.join(dir_testinput, 'input','westerscheldt_net.nc')"
   ]
  },
  {
   "cell_type": "code",
   "execution_count": 6,
   "id": "5ad09d9a",
   "metadata": {},
   "outputs": [],
   "source": [
    "# load up a gridded.dataset of the ADCIRC model:\n",
    "ds = gridded.Dataset(file_nc_ori)"
   ]
  },
  {
   "cell_type": "code",
   "execution_count": 7,
   "id": "b74cd2a3",
   "metadata": {},
   "outputs": [
    {
     "name": "stdout",
     "output_type": "stream",
     "text": [
      "UGrid object:\n",
      "Number of nodes: 8916\n",
      "Number of faces: 8355 with 4 vertices per face\n"
     ]
    }
   ],
   "source": [
    "# Information about the grid:\n",
    "print(ds.grid.info)"
   ]
  },
  {
   "cell_type": "code",
   "execution_count": 8,
   "id": "fd4865e2",
   "metadata": {},
   "outputs": [
    {
     "name": "stdout",
     "output_type": "stream",
     "text": [
      "Variables available and their standard names:\n",
      "\n",
      "mesh2d_node_z : altitude\n"
     ]
    }
   ],
   "source": [
    "# what variables are there\"\n",
    "print(\"Variables available and their standard names:\\n\")\n",
    "for name, var in ds.variables.items():\n",
    "    try:\n",
    "        print(name, \":\", var.attributes['standard_name'])\n",
    "    except KeyError:\n",
    "        pass"
   ]
  },
  {
   "cell_type": "code",
   "execution_count": 9,
   "id": "4b63594d",
   "metadata": {},
   "outputs": [],
   "source": [
    "ssh = ds.variables['mesh2d_node_z']"
   ]
  },
  {
   "cell_type": "code",
   "execution_count": 10,
   "id": "1b3d4487",
   "metadata": {},
   "outputs": [
    {
     "name": "stdout",
     "output_type": "stream",
     "text": [
      "gridded.variable.Variable(name=\"z-coordinate of mesh nodes\", time=\"<gridded.time.Time object at 0x00000280A907FB50>\", units=\"m\", data=\"<class 'netCDF4._netCDF4.Variable'>\n",
      "float64 mesh2d_node_z(nmesh2d_node)\n",
      "    mesh: mesh2d\n",
      "    location: node\n",
      "    coordinates: mesh2d_node_x mesh2d_node_y\n",
      "    standard_name: altitude\n",
      "    long_name: z-coordinate of mesh nodes\n",
      "    units: m\n",
      "    grid_mapping: projected_coordinate_system\n",
      "    _FillValue: -999.0\n",
      "unlimited dimensions: \n",
      "current shape = (8916,)\n",
      "filling on\", )\n"
     ]
    }
   ],
   "source": [
    "print(ssh)"
   ]
  },
  {
   "cell_type": "markdown",
   "id": "69cd2040",
   "metadata": {},
   "source": [
    "### Coba dengan gridgeo"
   ]
  },
  {
   "cell_type": "code",
   "execution_count": 16,
   "id": "e6f8f336",
   "metadata": {},
   "outputs": [
    {
     "ename": "OSError",
     "evalue": "[Errno -68] NetCDF: I/O failure: b'http://crow.marine.usf.edu:8080/thredds/dodsC/FVCOM-Nowcast-Agg.nc'",
     "output_type": "error",
     "traceback": [
      "\u001b[1;31m---------------------------------------------------------------------------\u001b[0m",
      "\u001b[1;31mOSError\u001b[0m                                   Traceback (most recent call last)",
      "\u001b[1;32m<ipython-input-16-da8036e10751>\u001b[0m in \u001b[0;36m<module>\u001b[1;34m\u001b[0m\n\u001b[0;32m      1\u001b[0m \u001b[0murl\u001b[0m \u001b[1;33m=\u001b[0m \u001b[1;34m'http://crow.marine.usf.edu:8080/thredds/dodsC/FVCOM-Nowcast-Agg.nc'\u001b[0m\u001b[1;33m\u001b[0m\u001b[1;33m\u001b[0m\u001b[0m\n\u001b[0;32m      2\u001b[0m \u001b[1;33m\u001b[0m\u001b[0m\n\u001b[1;32m----> 3\u001b[1;33m grid = gridgeo.GridGeo(\n\u001b[0m\u001b[0;32m      4\u001b[0m     \u001b[0murl\u001b[0m\u001b[1;33m,\u001b[0m\u001b[1;33m\u001b[0m\u001b[1;33m\u001b[0m\u001b[0m\n\u001b[0;32m      5\u001b[0m     \u001b[0mstandard_name\u001b[0m\u001b[1;33m=\u001b[0m\u001b[1;34m'sea_water_potential_temperature'\u001b[0m\u001b[1;33m\u001b[0m\u001b[1;33m\u001b[0m\u001b[0m\n",
      "\u001b[1;32mD:\\Program_Files\\Anaconda3\\envs\\d3dfm\\lib\\site-packages\\gridgeo\\gridgeo.py\u001b[0m in \u001b[0;36m__init__\u001b[1;34m(self, nc, **kwargs)\u001b[0m\n\u001b[0;32m     43\u001b[0m             \u001b[1;32mpass\u001b[0m\u001b[1;33m\u001b[0m\u001b[1;33m\u001b[0m\u001b[0m\n\u001b[0;32m     44\u001b[0m         \u001b[1;32melse\u001b[0m\u001b[1;33m:\u001b[0m\u001b[1;33m\u001b[0m\u001b[1;33m\u001b[0m\u001b[0m\n\u001b[1;32m---> 45\u001b[1;33m             \u001b[0mnc\u001b[0m \u001b[1;33m=\u001b[0m \u001b[0mnetCDF4\u001b[0m\u001b[1;33m.\u001b[0m\u001b[0mDataset\u001b[0m\u001b[1;33m(\u001b[0m\u001b[0mnc\u001b[0m\u001b[1;33m)\u001b[0m\u001b[1;33m\u001b[0m\u001b[1;33m\u001b[0m\u001b[0m\n\u001b[0m\u001b[0;32m     46\u001b[0m \u001b[1;33m\u001b[0m\u001b[0m\n\u001b[0;32m     47\u001b[0m         \u001b[0mvar\u001b[0m \u001b[1;33m=\u001b[0m \u001b[0mCFVariable\u001b[0m\u001b[1;33m(\u001b[0m\u001b[0mnc\u001b[0m\u001b[1;33m,\u001b[0m \u001b[1;33m**\u001b[0m\u001b[0mkwargs\u001b[0m\u001b[1;33m)\u001b[0m\u001b[1;33m\u001b[0m\u001b[1;33m\u001b[0m\u001b[0m\n",
      "\u001b[1;32msrc\\netCDF4\\_netCDF4.pyx\u001b[0m in \u001b[0;36mnetCDF4._netCDF4.Dataset.__init__\u001b[1;34m()\u001b[0m\n",
      "\u001b[1;32msrc\\netCDF4\\_netCDF4.pyx\u001b[0m in \u001b[0;36mnetCDF4._netCDF4._ensure_nc_success\u001b[1;34m()\u001b[0m\n",
      "\u001b[1;31mOSError\u001b[0m: [Errno -68] NetCDF: I/O failure: b'http://crow.marine.usf.edu:8080/thredds/dodsC/FVCOM-Nowcast-Agg.nc'"
     ]
    }
   ],
   "source": [
    "url = 'http://crow.marine.usf.edu:8080/thredds/dodsC/FVCOM-Nowcast-Agg.nc'\n",
    "\n",
    "grid = gridgeo.GridGeo(\n",
    "    url,\n",
    "    standard_name='sea_water_potential_temperature'\n",
    ")"
   ]
  },
  {
   "cell_type": "code",
   "execution_count": null,
   "id": "587a6c18",
   "metadata": {},
   "outputs": [],
   "source": [
    "schema = {\n",
    "    'geometry': 'MultiPolygon',\n",
    "    'properties': {'name': f'str:{len(grid.mesh)}'}\n",
    "}\n",
    "\n",
    "with fiona.open('grid.shp', 'w', 'ESRI Shapefile', schema) as f:\n",
    "    f.write(\n",
    "        {\n",
    "            'geometry': grid.__geo_interface__,\n",
    "            'properties': {'name': grid.mesh}\n",
    "        }\n",
    "    )"
   ]
  }
 ],
 "metadata": {
  "kernelspec": {
   "display_name": "Python 3",
   "language": "python",
   "name": "python3"
  },
  "language_info": {
   "codemirror_mode": {
    "name": "ipython",
    "version": 3
   },
   "file_extension": ".py",
   "mimetype": "text/x-python",
   "name": "python",
   "nbconvert_exporter": "python",
   "pygments_lexer": "ipython3",
   "version": "3.8.11"
  },
  "toc": {
   "base_numbering": 1,
   "nav_menu": {},
   "number_sections": true,
   "sideBar": true,
   "skip_h1_title": false,
   "title_cell": "Table of Contents",
   "title_sidebar": "Contents",
   "toc_cell": false,
   "toc_position": {},
   "toc_section_display": true,
   "toc_window_display": false
  },
  "varInspector": {
   "cols": {
    "lenName": 16,
    "lenType": 16,
    "lenVar": 40
   },
   "kernels_config": {
    "python": {
     "delete_cmd_postfix": "",
     "delete_cmd_prefix": "del ",
     "library": "var_list.py",
     "varRefreshCmd": "print(var_dic_list())"
    },
    "r": {
     "delete_cmd_postfix": ") ",
     "delete_cmd_prefix": "rm(",
     "library": "var_list.r",
     "varRefreshCmd": "cat(var_dic_list()) "
    }
   },
   "types_to_exclude": [
    "module",
    "function",
    "builtin_function_or_method",
    "instance",
    "_Feature"
   ],
   "window_display": false
  }
 },
 "nbformat": 4,
 "nbformat_minor": 5
}
